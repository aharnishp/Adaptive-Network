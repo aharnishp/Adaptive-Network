{
 "cells": [
  {
   "cell_type": "code",
   "execution_count": 1,
   "metadata": {},
   "outputs": [],
   "source": [
    "import numpy as np\n",
    "import matplotlib.pyplot as plt\n",
    "from matplotlib import colors\n",
    "\n",
    "from adaptivenetworks.nnetwork import nnetwork\n",
    "\n",
    "telementary = 1\n",
    "runNum = 0      ## Increment to utilise caching\n",
    "# batch_size=100       ## assumed size of dataset\n",
    "learningRate = 0.03"
   ]
  },
  {
   "attachments": {},
   "cell_type": "markdown",
   "metadata": {},
   "source": [
    "### Weight Grid Plotter for reference"
   ]
  },
  {
   "cell_type": "code",
   "execution_count": 2,
   "metadata": {},
   "outputs": [],
   "source": [
    "colorList = []\n",
    "boundList = [-0.5]\n",
    "\n",
    "\n",
    "gradDepth = 16\n",
    "\n",
    "for i in range(gradDepth + 1):\n",
    "    value = i/gradDepth\n",
    "    boundList.append(((i+1)/(gradDepth+1)) - 0.5)\n",
    "    colorList.append([value,value,value])\n",
    "\n",
    "# print(\"colorList\", colorList)\n",
    "# print(\"boundList\", boundList)"
   ]
  },
  {
   "cell_type": "code",
   "execution_count": 3,
   "metadata": {},
   "outputs": [],
   "source": [
    "# clear function\n",
    "# import only system from os\n",
    "from os import system, name\n",
    "\n",
    "# import sleep to show output for some time period\n",
    "from time import sleep\n",
    "\n",
    "def clearScreen():\n",
    "    if name == 'nt':\n",
    "        _ = system('cls')\n",
    "    else:\n",
    "        _ = system('clear')"
   ]
  },
  {
   "cell_type": "code",
   "execution_count": 4,
   "metadata": {},
   "outputs": [],
   "source": [
    "def printMap(data, sizes=[10,10]):\n",
    "    # create discrete colormap\n",
    "    cmap = colors.ListedColormap(colorList)\n",
    "    bounds = boundList\n",
    "    norm = colors.BoundaryNorm(bounds, cmap.N)\n",
    "\n",
    "    fig, ax = plt.subplots()\n",
    "    ax.imshow(data, cmap=cmap, norm=norm)\n",
    "\n",
    "    # draw gridlines\n",
    "    ax.grid(which='major', axis='both', linestyle='-', color='k', linewidth=1)\n",
    "    ax.set_xticks(np.arange(-.5, sizes[0], 1));\n",
    "    ax.set_yticks(np.arange(-.5, sizes[1], 1));\n",
    "\n",
    "    plt.show()"
   ]
  },
  {
   "attachments": {},
   "cell_type": "markdown",
   "metadata": {},
   "source": [
    "# TESTING"
   ]
  },
  {
   "attachments": {},
   "cell_type": "markdown",
   "metadata": {},
   "source": [
    "## MNIST Dataset Testing"
   ]
  },
  {
   "cell_type": "code",
   "execution_count": 5,
   "metadata": {},
   "outputs": [],
   "source": [
    "import pandas as pd\n",
    "from matplotlib import pyplot as plt\n",
    "\n",
    "data = pd.read_csv('mnist-train.csv')\n",
    "# Adaptive-Matrix/"
   ]
  },
  {
   "cell_type": "code",
   "execution_count": 6,
   "metadata": {},
   "outputs": [],
   "source": [
    "data = np.array(data)\n",
    "m, n = data.shape\n",
    "np.random.shuffle(data) # shuffle before splitting into dev and training sets\n",
    "\n",
    "data_dev = data[0:1000].T\n",
    "Y_dev = data_dev[0]\n",
    "X_dev = data_dev[1:n]\n",
    "X_dev = X_dev / 255.\n",
    "\n",
    "data_train = data[1000:m].T\n",
    "Y_train = data_train[0]\n",
    "X_train = data_train[1:n]\n",
    "X_train = X_train / 255.\n",
    "_,m_train = X_train.shape\n",
    "\n",
    "X_trainT = X_train.T\n",
    "\n",
    "def one_hot(Y, maxExpected):\n",
    "    one_hot_Y = np.zeros((Y.size, maxExpected + 1))\n",
    "    one_hot_Y[np.arange(Y.size), Y] = 1\n",
    "    one_hot_Y = one_hot_Y.T\n",
    "    return one_hot_Y\n",
    "\n",
    "## find the index of most probable number guessed by network\n",
    "def get_predictions(A2):\n",
    "    return np.argmax(A2, 0)\n",
    "\n",
    "## find ratio of correct predictions to all data\n",
    "def get_accuracy(predictions, Y):\n",
    "    # print(predictions, Y)\n",
    "    return np.sum(predictions == Y) / Y.size\n"
   ]
  },
  {
   "attachments": {},
   "cell_type": "markdown",
   "metadata": {},
   "source": [
    "#### Testing with non dynamic 784-10-10-10 network"
   ]
  },
  {
   "cell_type": "code",
   "execution_count": 7,
   "metadata": {},
   "outputs": [],
   "source": [
    "nt = nnetwork(784, 10, insertDefault=0, learningRate=learningRate)"
   ]
  },
  {
   "cell_type": "code",
   "execution_count": 8,
   "metadata": {},
   "outputs": [],
   "source": [
    "nt.addLayerAtLast(10,isDynamic=0,activationFn=\"relu\")\n",
    "nt.addLayerAtLast(10,isDynamic=0,activationFn=\"relu\")\n",
    "\n",
    "nt.output_layer.activationFn = \"softmax\""
   ]
  },
  {
   "cell_type": "code",
   "execution_count": null,
   "metadata": {},
   "outputs": [],
   "source": []
  },
  {
   "cell_type": "code",
   "execution_count": 9,
   "metadata": {},
   "outputs": [
    {
     "name": "stdout",
     "output_type": "stream",
     "text": [
      "Provided input from cache\n",
      "[[0.47278113]\n",
      " [0.01972549]\n",
      " [0.08077102]\n",
      " [0.01637977]\n",
      " [0.08892961]\n",
      " [0.11357806]\n",
      " [0.03196044]\n",
      " [0.06202322]\n",
      " [0.03377493]\n",
      " [0.08007633]]\n"
     ]
    }
   ],
   "source": [
    "telementary = 0\n",
    "out = (nt.forward_prop(X_train.T[0].T))\n",
    "# telementary = 1\n",
    "print(out)"
   ]
  },
  {
   "attachments": {},
   "cell_type": "markdown",
   "metadata": {},
   "source": [
    "### Backprop Testing"
   ]
  },
  {
   "cell_type": "code",
   "execution_count": 10,
   "metadata": {},
   "outputs": [
    {
     "name": "stdout",
     "output_type": "stream",
     "text": [
      "Provided input from cache\n",
      "Re-used Cached Value\n",
      "Activation Function = softmax  didn't match, returning as ReLU\n",
      "Re-used Cached Value\n",
      "Provided input from cache\n"
     ]
    }
   ],
   "source": [
    "telementary = 0\n",
    "\n",
    "# oldWeights = nt.output_layer.weights\n",
    "\n",
    "Y_train_oneHot = one_hot(Y_train, maxExpected=9)\n",
    "predictions = nt.backward_prop(input_values=X_train, trueOutput=Y_train_oneHot)\n",
    "\n",
    "# newWeights = nt.output_layer.weights\n",
    "\n",
    "# diffWeight = newWeights - oldWeights\n",
    "\n",
    "# print(diffWeight)"
   ]
  },
  {
   "cell_type": "code",
   "execution_count": 152,
   "metadata": {},
   "outputs": [],
   "source": [
    "# Duplicating for experiment\n",
    "import copy\n",
    "# nt0 = copy.deepcopy(nt)"
   ]
  },
  {
   "attachments": {},
   "cell_type": "markdown",
   "metadata": {},
   "source": [
    "### Gradient Descent on MNIST"
   ]
  },
  {
   "cell_type": "code",
   "execution_count": 12,
   "metadata": {},
   "outputs": [
    {
     "name": "stdout",
     "output_type": "stream",
     "text": [
      "Provided input from cache\n",
      "Re-used Cached Value\n",
      "Activation Function = softmax  didn't match, returning as ReLU\n",
      "Re-used Cached Value\n",
      "Provided input from cache\n",
      "iterations = 0\n",
      "Accuracy = 0.27907317073170734\n",
      "Provided input from cache\n",
      "Re-used Cached Value\n",
      "Activation Function = softmax  didn't match, returning as ReLU\n",
      "Re-used Cached Value\n",
      "Provided input from cache\n",
      "Provided input from cache\n",
      "Re-used Cached Value\n",
      "Activation Function = softmax  didn't match, returning as ReLU\n",
      "Re-used Cached Value\n",
      "Provided input from cache\n",
      "Provided input from cache\n",
      "Re-used Cached Value\n",
      "Activation Function = softmax  didn't match, returning as ReLU\n",
      "Re-used Cached Value\n",
      "Provided input from cache\n",
      "Provided input from cache\n"
     ]
    },
    {
     "ename": "KeyboardInterrupt",
     "evalue": "",
     "output_type": "error",
     "traceback": [
      "\u001b[0;31m---------------------------------------------------------------------------\u001b[0m",
      "\u001b[0;31mKeyboardInterrupt\u001b[0m                         Traceback (most recent call last)",
      "\u001b[1;32m/home/aharnish/Documents/Development/ML/tensorGPU/adaptive-network/main.ipynb Cell 19\u001b[0m in \u001b[0;36m<cell line: 11>\u001b[0;34m()\u001b[0m\n\u001b[1;32m     <a href='vscode-notebook-cell:/home/aharnish/Documents/Development/ML/tensorGPU/adaptive-network/main.ipynb#X32sZmlsZQ%3D%3D?line=10'>11</a>\u001b[0m \u001b[39mfor\u001b[39;00m it \u001b[39min\u001b[39;00m \u001b[39mrange\u001b[39m(maxIt):\n\u001b[1;32m     <a href='vscode-notebook-cell:/home/aharnish/Documents/Development/ML/tensorGPU/adaptive-network/main.ipynb#X32sZmlsZQ%3D%3D?line=11'>12</a>\u001b[0m     Y_train_oneHot \u001b[39m=\u001b[39m one_hot(Y_train, maxExpected\u001b[39m=\u001b[39m\u001b[39m9\u001b[39m)\n\u001b[0;32m---> <a href='vscode-notebook-cell:/home/aharnish/Documents/Development/ML/tensorGPU/adaptive-network/main.ipynb#X32sZmlsZQ%3D%3D?line=12'>13</a>\u001b[0m     predictedRAW \u001b[39m=\u001b[39m nt\u001b[39m.\u001b[39;49mbackward_prop(input_values\u001b[39m=\u001b[39;49m(X_train), trueOutput\u001b[39m=\u001b[39;49mY_train_oneHot)\n\u001b[1;32m     <a href='vscode-notebook-cell:/home/aharnish/Documents/Development/ML/tensorGPU/adaptive-network/main.ipynb#X32sZmlsZQ%3D%3D?line=14'>15</a>\u001b[0m     \u001b[39mif\u001b[39;00m(it \u001b[39m%\u001b[39m \u001b[39m50\u001b[39m \u001b[39m==\u001b[39m \u001b[39m0\u001b[39m):\n\u001b[1;32m     <a href='vscode-notebook-cell:/home/aharnish/Documents/Development/ML/tensorGPU/adaptive-network/main.ipynb#X32sZmlsZQ%3D%3D?line=15'>16</a>\u001b[0m         \u001b[39mprint\u001b[39m(\u001b[39m\"\u001b[39m\u001b[39miterations =\u001b[39m\u001b[39m\"\u001b[39m, it)\n",
      "File \u001b[0;32m~/Documents/Development/ML/tensorGPU/adaptive-network/adaptivenetworks/nnetwork.py:92\u001b[0m, in \u001b[0;36mnnetwork.backward_prop\u001b[0;34m(self, input_values, trueOutput)\u001b[0m\n\u001b[1;32m     88\u001b[0m \u001b[39mself\u001b[39m\u001b[39m.\u001b[39minput_layer\u001b[39m.\u001b[39mcacheValue \u001b[39m=\u001b[39m input_values\n\u001b[1;32m     90\u001b[0m iftelemetry: \u001b[39mprint\u001b[39m(\u001b[39m\"\u001b[39m\u001b[39mgetting forward prop predictions\u001b[39m\u001b[39m\"\u001b[39m)\n\u001b[0;32m---> 92\u001b[0m predictedOutput \u001b[39m=\u001b[39m \u001b[39mself\u001b[39;49m\u001b[39m.\u001b[39;49moutput_layer\u001b[39m.\u001b[39;49mgetActivation(runNum\u001b[39m=\u001b[39;49m\u001b[39mself\u001b[39;49m\u001b[39m.\u001b[39;49mrunNum)\n\u001b[1;32m     94\u001b[0m iftelemetry: \u001b[39mprint\u001b[39m(\u001b[39m\"\u001b[39m\u001b[39mstarting backprop\u001b[39m\u001b[39m\"\u001b[39m)\n\u001b[1;32m     95\u001b[0m activError \u001b[39m=\u001b[39m predictedOutput \u001b[39m-\u001b[39m trueOutput   \u001b[39m## error in output activations\u001b[39;00m\n",
      "File \u001b[0;32m~/Documents/Development/ML/tensorGPU/adaptive-network/adaptivenetworks/nlayer.py:145\u001b[0m, in \u001b[0;36mnlayer.getActivation\u001b[0;34m(self, runNum)\u001b[0m\n\u001b[1;32m    143\u001b[0m         inputArr \u001b[39m=\u001b[39m np\u001b[39m.\u001b[39mconcatenate((inputArr, \u001b[39mself\u001b[39m\u001b[39m.\u001b[39minput_layers[layrIndx]\u001b[39m.\u001b[39mgetActivation(runNum\u001b[39m=\u001b[39mrunNum)))\n\u001b[1;32m    144\u001b[0m     \u001b[39melse\u001b[39;00m:\n\u001b[0;32m--> 145\u001b[0m         inputArr \u001b[39m=\u001b[39m \u001b[39mself\u001b[39;49m\u001b[39m.\u001b[39;49minput_layers[layrIndx]\u001b[39m.\u001b[39;49mgetActivation(runNum\u001b[39m=\u001b[39;49mrunNum)\n\u001b[1;32m    148\u001b[0m \u001b[39mself\u001b[39m\u001b[39m.\u001b[39mbeingEvaluated \u001b[39m=\u001b[39m \u001b[39m0\u001b[39m\n\u001b[1;32m    150\u001b[0m \u001b[39m##  Checking dimensions of input matrix\u001b[39;00m\n",
      "File \u001b[0;32m~/Documents/Development/ML/tensorGPU/adaptive-network/adaptivenetworks/nlayer.py:145\u001b[0m, in \u001b[0;36mnlayer.getActivation\u001b[0;34m(self, runNum)\u001b[0m\n\u001b[1;32m    143\u001b[0m         inputArr \u001b[39m=\u001b[39m np\u001b[39m.\u001b[39mconcatenate((inputArr, \u001b[39mself\u001b[39m\u001b[39m.\u001b[39minput_layers[layrIndx]\u001b[39m.\u001b[39mgetActivation(runNum\u001b[39m=\u001b[39mrunNum)))\n\u001b[1;32m    144\u001b[0m     \u001b[39melse\u001b[39;00m:\n\u001b[0;32m--> 145\u001b[0m         inputArr \u001b[39m=\u001b[39m \u001b[39mself\u001b[39;49m\u001b[39m.\u001b[39;49minput_layers[layrIndx]\u001b[39m.\u001b[39;49mgetActivation(runNum\u001b[39m=\u001b[39;49mrunNum)\n\u001b[1;32m    148\u001b[0m \u001b[39mself\u001b[39m\u001b[39m.\u001b[39mbeingEvaluated \u001b[39m=\u001b[39m \u001b[39m0\u001b[39m\n\u001b[1;32m    150\u001b[0m \u001b[39m##  Checking dimensions of input matrix\u001b[39;00m\n",
      "File \u001b[0;32m~/Documents/Development/ML/tensorGPU/adaptive-network/adaptivenetworks/nlayer.py:182\u001b[0m, in \u001b[0;36mnlayer.getActivation\u001b[0;34m(self, runNum)\u001b[0m\n\u001b[1;32m    178\u001b[0m     \u001b[39mprint\u001b[39m(\u001b[39m\"\u001b[39m\u001b[39m!! Input Layer smaller than expected. !!\u001b[39m\u001b[39m\"\u001b[39m, \u001b[39m\"\u001b[39m\u001b[39minputArr.shape[0] =\u001b[39m\u001b[39m\"\u001b[39m, inputArr\u001b[39m.\u001b[39mshape[\u001b[39m0\u001b[39m], \u001b[39m\"\u001b[39m\u001b[39mself.weights.shape[1] =\u001b[39m\u001b[39m\"\u001b[39m, \u001b[39mself\u001b[39m\u001b[39m.\u001b[39mweights\u001b[39m.\u001b[39mshape[\u001b[39m1\u001b[39m])\n\u001b[1;32m    179\u001b[0m     \u001b[39mreturn\u001b[39;00m \u001b[39m-\u001b[39m\u001b[39m1\u001b[39m\n\u001b[0;32m--> 182\u001b[0m rawActivation \u001b[39m=\u001b[39m np\u001b[39m.\u001b[39;49mmatmul(\u001b[39mself\u001b[39;49m\u001b[39m.\u001b[39;49mweights, inputArr) \u001b[39m+\u001b[39m \u001b[39mself\u001b[39m\u001b[39m.\u001b[39mbias\n\u001b[1;32m    183\u001b[0m activation \u001b[39m=\u001b[39m \u001b[39mself\u001b[39m\u001b[39m.\u001b[39mapplyActivationFn(rawActivation\u001b[39m=\u001b[39mrawActivation)\n\u001b[1;32m    185\u001b[0m \u001b[39mself\u001b[39m\u001b[39m.\u001b[39mcachedRun \u001b[39m=\u001b[39m runNum\n",
      "\u001b[0;31mKeyboardInterrupt\u001b[0m: "
     ]
    }
   ],
   "source": [
    "# accuracySum = 0\n",
    "# runCount = 0\n",
    "\n",
    "telementary = 0\n",
    "\n",
    "lastWeights = nt.output_layer.weights\n",
    "\n",
    "dataLen = len(X_train)\n",
    "\n",
    "maxIt = 450\n",
    "for it in range(maxIt):\n",
    "    Y_train_oneHot = one_hot(Y_train, maxExpected=9)\n",
    "    predictedRAW = nt.backward_prop(input_values=(X_train), trueOutput=Y_train_oneHot)\n",
    "\n",
    "    if(it % 50 == 0):\n",
    "        print(\"iterations =\", it)\n",
    "        predictions = get_predictions(predictedRAW[0][0])\n",
    "        print(\"Accuracy =\", get_accuracy(predictions, Y_train))\n",
    "        # newWeights = nt.output_layer.weights\n",
    "\n",
    "        # printMap((newWeights - lastWeights)*50)\n",
    "\n",
    "        # lastWeights = newWeights #nt.output_layer.weights\n",
    "\n",
    "\n",
    "# telementary = 1\n",
    "\n",
    "# # accuracy = accuracySum/len(X_train)\n",
    "# accuracy = accuracySum/runCount\n",
    "\n"
   ]
  },
  {
   "attachments": {},
   "cell_type": "markdown",
   "metadata": {},
   "source": [
    "## Gradient Descending Telemetry"
   ]
  },
  {
   "attachments": {},
   "cell_type": "markdown",
   "metadata": {},
   "source": [
    "### For each batch"
   ]
  },
  {
   "cell_type": "code",
   "execution_count": 161,
   "metadata": {},
   "outputs": [
    {
     "name": "stdout",
     "output_type": "stream",
     "text": [
      "Please press enter\n",
      "\u001b[H\u001b[2Jiterations = 0\n",
      "Accuracy = 0.801\n"
     ]
    },
    {
     "data": {
      "image/png": "[encoded data removed]",
      "text/plain": [
       "<Figure size 640x480 with 1 Axes>"
      ]
     },
     "metadata": {},
     "output_type": "display_data"
    },
    {
     "name": "stdout",
     "output_type": "stream",
     "text": [
      "Activation Errors =  [39.63030761 31.100252   75.98336448 73.80488171 49.54702509 85.68319619\n",
      " 35.75190412 45.41323347 84.20657923 78.1899578 ]\n"
     ]
    },
    {
     "data": {
      "image/png": "[encoded data removed]",
      "text/plain": [
       "<Figure size 640x480 with 1 Axes>"
      ]
     },
     "metadata": {},
     "output_type": "display_data"
    },
    {
     "name": "stdout",
     "output_type": "stream",
     "text": [
      "Please press enter\n",
      "\u001b[H\u001b[2Jiterations = 50\n",
      "Accuracy = 0.802\n"
     ]
    },
    {
     "data": {
      "image/png": "[encoded data removed]",
      "text/plain": [
       "<Figure size 640x480 with 1 Axes>"
      ]
     },
     "metadata": {},
     "output_type": "display_data"
    },
    {
     "name": "stdout",
     "output_type": "stream",
     "text": [
      "Activation Errors =  [38.21746737 34.92503211 71.02066149 76.51193438 53.39378104 78.93219029\n",
      " 39.73585556 44.97419306 84.98062742 74.75808363]\n"
     ]
    },
    {
     "data": {
      "image/png": "[encoded data removed]",
      "text/plain": [
       "<Figure size 640x480 with 1 Axes>"
      ]
     },
     "metadata": {},
     "output_type": "display_data"
    },
    {
     "name": "stdout",
     "output_type": "stream",
     "text": [
      "Please press enter\n",
      "\u001b[H\u001b[2Jiterations = 100\n",
      "Accuracy = 0.79\n"
     ]
    },
    {
     "data": {
      "image/png": "[encoded data removed]",
      "text/plain": [
       "<Figure size 640x480 with 1 Axes>"
      ]
     },
     "metadata": {},
     "output_type": "display_data"
    },
    {
     "name": "stdout",
     "output_type": "stream",
     "text": [
      "Activation Errors =  [36.17946187 41.55826219 70.1291142  59.94919751 56.40112467 76.90167194\n",
      " 42.02028339 57.92465994 84.4335879  82.40977818]\n"
     ]
    },
    {
     "data": {
      "image/png": "[encoded data removed]",
      "text/plain": [
       "<Figure size 640x480 with 1 Axes>"
      ]
     },
     "metadata": {},
     "output_type": "display_data"
    },
    {
     "name": "stdout",
     "output_type": "stream",
     "text": [
      "Please press enter\n",
      "\u001b[H\u001b[2Jiterations = 150\n",
      "Accuracy = 0.83\n"
     ]
    },
    {
     "data": {
      "image/png": "[encoded data removed]",
      "text/plain": [
       "<Figure size 640x480 with 1 Axes>"
      ]
     },
     "metadata": {},
     "output_type": "display_data"
    },
    {
     "name": "stdout",
     "output_type": "stream",
     "text": [
      "Activation Errors =  [26.88885831 35.93440229 66.47863401 70.04033746 41.76280401 81.18025966\n",
      " 38.0070342  40.49526053 79.5715234  70.56099282]\n"
     ]
    },
    {
     "data": {
      "image/png": "[encoded data removed]",
      "text/plain": [
       "<Figure size 640x480 with 1 Axes>"
      ]
     },
     "metadata": {},
     "output_type": "display_data"
    },
    {
     "name": "stdout",
     "output_type": "stream",
     "text": [
      "Please press enter\n",
      "\u001b[H\u001b[2Jiterations = 200\n",
      "Accuracy = 0.841\n"
     ]
    },
    {
     "data": {
      "image/png": "[encoded data removed]",
      "text/plain": [
       "<Figure size 640x480 with 1 Axes>"
      ]
     },
     "metadata": {},
     "output_type": "display_data"
    },
    {
     "name": "stdout",
     "output_type": "stream",
     "text": [
      "Activation Errors =  [37.32272617 31.3667427  70.29249514 66.12531307 46.62882563 69.07718551\n",
      " 35.42324839 39.05171568 66.51319704 73.13152285]\n"
     ]
    },
    {
     "data": {
      "image/png": "[encoded data removed]",
      "text/plain": [
       "<Figure size 640x480 with 1 Axes>"
      ]
     },
     "metadata": {},
     "output_type": "display_data"
    },
    {
     "name": "stdout",
     "output_type": "stream",
     "text": [
      "Please press enter\n",
      "\u001b[H\u001b[2Jiterations = 250\n",
      "Accuracy = 0.81\n"
     ]
    },
    {
     "data": {
      "image/png": "[encoded data removed]",
      "text/plain": [
       "<Figure size 640x480 with 1 Axes>"
      ]
     },
     "metadata": {},
     "output_type": "display_data"
    },
    {
     "name": "stdout",
     "output_type": "stream",
     "text": [
      "Activation Errors =  [37.51151047 21.78858133 72.67925505 70.41538903 48.11045562 82.62727782\n",
      " 44.54791672 42.83788136 80.41699766 76.21677271]\n"
     ]
    },
    {
     "data": {
      "image/png": "[encoded data removed]",
      "text/plain": [
       "<Figure size 640x480 with 1 Axes>"
      ]
     },
     "metadata": {},
     "output_type": "display_data"
    },
    {
     "name": "stdout",
     "output_type": "stream",
     "text": [
      "Please press enter\n",
      "\u001b[H\u001b[2Jiterations = 300\n",
      "Accuracy = 0.826\n"
     ]
    },
    {
     "data": {
      "image/png": "[encoded data removed]",
      "text/plain": [
       "<Figure size 640x480 with 1 Axes>"
      ]
     },
     "metadata": {},
     "output_type": "display_data"
    },
    {
     "name": "stdout",
     "output_type": "stream",
     "text": [
      "Activation Errors =  [37.95710024 34.51239686 59.47085551 62.1661906  51.48432593 72.77587347\n",
      " 34.08308423 43.68291532 65.43315164 77.3936921 ]\n"
     ]
    },
    {
     "data": {
      "image/png": "[encoded data removed]",
      "text/plain": [
       "<Figure size 640x480 with 1 Axes>"
      ]
     },
     "metadata": {},
     "output_type": "display_data"
    },
    {
     "name": "stdout",
     "output_type": "stream",
     "text": [
      "Please press enter\n",
      "\u001b[H\u001b[2Jiterations = 350\n",
      "Accuracy = 0.815\n"
     ]
    },
    {
     "data": {
      "image/png": "[encoded data removed]",
      "text/plain": [
       "<Figure size 640x480 with 1 Axes>"
      ]
     },
     "metadata": {},
     "output_type": "display_data"
    },
    {
     "name": "stdout",
     "output_type": "stream",
     "text": [
      "Activation Errors =  [31.43317474 38.23963654 57.39796535 64.92614985 45.11705292 73.87911567\n",
      " 29.24740635 48.95719493 76.12467115 78.15529549]\n"
     ]
    },
    {
     "data": {
      "image/png": "[encoded data removed]",
      "text/plain": [
       "<Figure size 640x480 with 1 Axes>"
      ]
     },
     "metadata": {},
     "output_type": "display_data"
    },
    {
     "name": "stdout",
     "output_type": "stream",
     "text": [
      "Please press enter\n",
      "\u001b[H\u001b[2Jiterations = 400\n",
      "Accuracy = 0.842\n"
     ]
    },
    {
     "data": {
      "image/png": "[encoded data removed]",
      "text/plain": [
       "<Figure size 640x480 with 1 Axes>"
      ]
     },
     "metadata": {},
     "output_type": "display_data"
    },
    {
     "name": "stdout",
     "output_type": "stream",
     "text": [
      "Activation Errors =  [30.36788332 27.29787754 59.16440022 68.96769056 47.0068286  67.51656143\n",
      " 30.08987311 43.19993123 70.11029948 71.83409616]\n"
     ]
    },
    {
     "data": {
      "image/png": "[encoded data removed]",
      "text/plain": [
       "<Figure size 640x480 with 1 Axes>"
      ]
     },
     "metadata": {},
     "output_type": "display_data"
    }
   ],
   "source": [
    "# accuracySum = 0\n",
    "# runCount = 0\n",
    "\n",
    "telementary = 0\n",
    "lastWeights = nt.output_layer.weights\n",
    "\n",
    "dataLen = len(X_train[0])\n",
    "batchSize = 1000\n",
    "maxIt = 450\n",
    "for it in range(maxIt):\n",
    "    spliceRange = [(batchSize*it)%dataLen, batchSize*(it+1)%dataLen]    ## [start, end]\n",
    "\n",
    "    if(spliceRange[0] >= spliceRange[1]):\n",
    "        # spliceRange[0] = dataLen - spliceRange[0]\n",
    "        # if(spliceRange[0] >= spliceRange[1]):\n",
    "        spliceRange[0] = 0\n",
    "        spliceRange[1] = batchSize\n",
    "\n",
    "    ## Verifying batch size\n",
    "    X_Train_Batch = X_train.T[spliceRange[0]:spliceRange[1]].T\n",
    "    Y_Train_Batch = Y_train[spliceRange[0]:spliceRange[1]]\n",
    "    if(telementary==2): print(\"SPLICE:\", spliceRange)\n",
    "    if(telementary==2): print(\"X size:\", X_Train_Batch.shape)\n",
    "    if(telementary==2): print(\"Y size:\", Y_Train_Batch.shape)\n",
    "    if(X_Train_Batch.shape[1] == 0):\n",
    "        print(\"error no X: spliceRange\", spliceRange)\n",
    "\n",
    "    Y_train_oneHot = one_hot(Y_Train_Batch, maxExpected=9)\n",
    "    predictedRAW = nt.backward_prop(input_values=(X_Train_Batch), trueOutput=Y_train_oneHot)\n",
    "\n",
    "    if(it % 50 == 0):\n",
    "        print(\"Please press enter\")\n",
    "        pauser = input(\"Press enter for next iteration.\")\n",
    "        clearScreen()\n",
    "        print(\"iterations =\", it)\n",
    "        predictions = get_predictions(predictedRAW[0][0])\n",
    "        print(\"Accuracy =\", get_accuracy(predictions, Y_Train_Batch))\n",
    "        # print(\"Weights of output:\")\n",
    "        # print(nt.output_layer.weights)\n",
    "        newWeights = nt.output_layer.weights\n",
    "\n",
    "        # print weight changes made\n",
    "        printMap((newWeights - lastWeights)*50)\n",
    "\n",
    "        finalMAE = np.sum(np.absolute(predictedRAW[1]), axis=1) ## MAE of output activation errors over last ran single batch\n",
    "\n",
    "        print(\"Activation Errors = \", finalMAE)\n",
    "        printMap((finalMAE[:, np.newaxis]/100) - 0.5, sizes=[1,10])\n",
    "\n",
    "        lastWeights = newWeights #nt.output_layer.weights\n",
    "\n",
    "\n",
    "# telementary = 1\n",
    "\n",
    "# # accuracy = accuracySum/len(X_train)\n",
    "# accuracy = accuracySum/runCount\n",
    "\n"
   ]
  },
  {
   "attachments": {},
   "cell_type": "markdown",
   "metadata": {},
   "source": [
    "#### Testing with Netwok 784-1\n"
   ]
  },
  {
   "cell_type": "code",
   "execution_count": 182,
   "metadata": {},
   "outputs": [],
   "source": [
    "n1 = nnetwork(784, 10, insertDefault=0)\n",
    "# n1.addLayerAtLast(10,isDynamic=1,activationFn=\"relu\")\n",
    "# n1.addLayerAtLast(10,isDynamic=1,activationFn=\"relu\")\n",
    "n1.output_layer.activationFn = \"softmax\""
   ]
  },
  {
   "cell_type": "code",
   "execution_count": 183,
   "metadata": {},
   "outputs": [],
   "source": [
    "telementary = 0"
   ]
  },
  {
   "cell_type": "code",
   "execution_count": 184,
   "metadata": {},
   "outputs": [
    {
     "name": "stdout",
     "output_type": "stream",
     "text": [
      "(10, 784)\n"
     ]
    },
    {
     "ename": "AttributeError",
     "evalue": "'NoneType' object has no attribute 'shape'",
     "output_type": "error",
     "traceback": [
      "\u001b[0;31m---------------------------------------------------------------------------\u001b[0m",
      "\u001b[0;31mAttributeError\u001b[0m                            Traceback (most recent call last)",
      "Cell \u001b[0;32mIn[184], line 2\u001b[0m\n\u001b[1;32m      1\u001b[0m \u001b[39mprint\u001b[39m(n1\u001b[39m.\u001b[39moutput_layer\u001b[39m.\u001b[39mweights\u001b[39m.\u001b[39mshape)\n\u001b[0;32m----> 2\u001b[0m \u001b[39mprint\u001b[39m(n1\u001b[39m.\u001b[39;49moutput_layer\u001b[39m.\u001b[39;49minput_layers[\u001b[39m0\u001b[39;49m]\u001b[39m.\u001b[39;49mweights\u001b[39m.\u001b[39;49mshape)\n",
      "\u001b[0;31mAttributeError\u001b[0m: 'NoneType' object has no attribute 'shape'"
     ]
    }
   ],
   "source": [
    "print(n1.output_layer.weights.shape)\n",
    "print(n1.output_layer.input_layers[0].weights.shape)"
   ]
  },
  {
   "cell_type": "code",
   "execution_count": 185,
   "metadata": {},
   "outputs": [
    {
     "name": "stdout",
     "output_type": "stream",
     "text": [
      "[[0.02570544]\n",
      " [0.09286622]\n",
      " [0.08576016]\n",
      " [0.0129636 ]\n",
      " [0.00124677]\n",
      " [0.01862181]\n",
      " [0.00296883]\n",
      " [0.53134623]\n",
      " [0.00178436]\n",
      " [0.22673657]]\n"
     ]
    }
   ],
   "source": [
    "out = (n1.forward_prop(X_train.T[0].T))\n",
    "print(out)"
   ]
  },
  {
   "cell_type": "code",
   "execution_count": 186,
   "metadata": {},
   "outputs": [],
   "source": [
    "predRaw = n1.backward_prop(input_values=X_train.T[0:1].T, trueOutput=one_hot(Y_train[0:1], maxExpected=9))"
   ]
  },
  {
   "cell_type": "code",
   "execution_count": 192,
   "metadata": {},
   "outputs": [
    {
     "name": "stdout",
     "output_type": "stream",
     "text": [
      "iterations = 0\n",
      "Accuracy = 0.7628292682926829\n",
      "iterations = 50\n",
      "Accuracy = 0.7735609756097561\n",
      "iterations = 100\n",
      "Accuracy = 0.782829268292683\n",
      "iterations = 150\n",
      "Accuracy = 0.7909756097560976\n",
      "iterations = 200\n",
      "Accuracy = 0.7971219512195122\n",
      "iterations = 250\n",
      "Accuracy = 0.8037560975609757\n",
      "iterations = 300\n",
      "Accuracy = 0.8094634146341464\n",
      "iterations = 350\n",
      "Accuracy = 0.8146829268292682\n",
      "iterations = 400\n",
      "Accuracy = 0.819390243902439\n"
     ]
    }
   ],
   "source": [
    "telementary = 0\n",
    "\n",
    "lastWeights = nt.output_layer.weights\n",
    "\n",
    "dataLen = len(X_train)\n",
    "\n",
    "maxIt = 450\n",
    "for it in range(maxIt):\n",
    "    Y_train_oneHot = one_hot(Y_train, maxExpected=9)\n",
    "    predictedRAW = n1.backward_prop(input_values=(X_train), trueOutput=Y_train_oneHot)\n",
    "\n",
    "    if(it % 50 == 0):\n",
    "        print(\"iterations =\", it)\n",
    "        predictions = get_predictions(predictedRAW[0][0])\n",
    "        print(\"Accuracy =\", get_accuracy(predictions, Y_train))"
   ]
  },
  {
   "attachments": {},
   "cell_type": "markdown",
   "metadata": {},
   "source": [
    "## Gradient Descending Telemetry\n",
    "### For each batch"
   ]
  },
  {
   "cell_type": "code",
   "execution_count": 193,
   "metadata": {},
   "outputs": [
    {
     "name": "stdout",
     "output_type": "stream",
     "text": [
      "Please press enter\n",
      "\u001b[H\u001b[2Jiterations = 0\n",
      "Accuracy = 0.816\n",
      "Activation Errors =  [33.05794304 36.72604591 61.45174303 56.0309888  58.15084262 71.68118039\n",
      " 38.01813495 47.39469483 78.666096   74.58215442]\n"
     ]
    },
    {
     "data": {
      "image/png": "[encoded data removed]",
      "text/plain": [
       "<Figure size 640x480 with 1 Axes>"
      ]
     },
     "metadata": {},
     "output_type": "display_data"
    },
    {
     "name": "stdout",
     "output_type": "stream",
     "text": [
      "Please press enter\n"
     ]
    },
    {
     "ename": "KeyboardInterrupt",
     "evalue": "Interrupted by user",
     "output_type": "error",
     "traceback": [
      "\u001b[0;31m---------------------------------------------------------------------------\u001b[0m",
      "\u001b[0;31mKeyboardInterrupt\u001b[0m                         Traceback (most recent call last)",
      "Cell \u001b[0;32mIn[193], line 33\u001b[0m\n\u001b[1;32m     31\u001b[0m \u001b[39mif\u001b[39;00m(it \u001b[39m%\u001b[39m \u001b[39m50\u001b[39m \u001b[39m==\u001b[39m \u001b[39m0\u001b[39m):\n\u001b[1;32m     32\u001b[0m     \u001b[39mprint\u001b[39m(\u001b[39m\"\u001b[39m\u001b[39mPlease press enter\u001b[39m\u001b[39m\"\u001b[39m)\n\u001b[0;32m---> 33\u001b[0m     pauser \u001b[39m=\u001b[39m \u001b[39minput\u001b[39;49m(\u001b[39m\"\u001b[39;49m\u001b[39mPress enter for next iteration.\u001b[39;49m\u001b[39m\"\u001b[39;49m)\n\u001b[1;32m     34\u001b[0m     clearScreen()\n\u001b[1;32m     35\u001b[0m     \u001b[39mprint\u001b[39m(\u001b[39m\"\u001b[39m\u001b[39miterations =\u001b[39m\u001b[39m\"\u001b[39m, it)\n",
      "File \u001b[0;32m~/Documents/Development/ML/tensorGPU/myVenv1/lib/python3.10/site-packages/ipykernel/kernelbase.py:1175\u001b[0m, in \u001b[0;36mKernel.raw_input\u001b[0;34m(self, prompt)\u001b[0m\n\u001b[1;32m   1171\u001b[0m \u001b[39mif\u001b[39;00m \u001b[39mnot\u001b[39;00m \u001b[39mself\u001b[39m\u001b[39m.\u001b[39m_allow_stdin:\n\u001b[1;32m   1172\u001b[0m     \u001b[39mraise\u001b[39;00m StdinNotImplementedError(\n\u001b[1;32m   1173\u001b[0m         \u001b[39m\"\u001b[39m\u001b[39mraw_input was called, but this frontend does not support input requests.\u001b[39m\u001b[39m\"\u001b[39m\n\u001b[1;32m   1174\u001b[0m     )\n\u001b[0;32m-> 1175\u001b[0m \u001b[39mreturn\u001b[39;00m \u001b[39mself\u001b[39;49m\u001b[39m.\u001b[39;49m_input_request(\n\u001b[1;32m   1176\u001b[0m     \u001b[39mstr\u001b[39;49m(prompt),\n\u001b[1;32m   1177\u001b[0m     \u001b[39mself\u001b[39;49m\u001b[39m.\u001b[39;49m_parent_ident[\u001b[39m\"\u001b[39;49m\u001b[39mshell\u001b[39;49m\u001b[39m\"\u001b[39;49m],\n\u001b[1;32m   1178\u001b[0m     \u001b[39mself\u001b[39;49m\u001b[39m.\u001b[39;49mget_parent(\u001b[39m\"\u001b[39;49m\u001b[39mshell\u001b[39;49m\u001b[39m\"\u001b[39;49m),\n\u001b[1;32m   1179\u001b[0m     password\u001b[39m=\u001b[39;49m\u001b[39mFalse\u001b[39;49;00m,\n\u001b[1;32m   1180\u001b[0m )\n",
      "File \u001b[0;32m~/Documents/Development/ML/tensorGPU/myVenv1/lib/python3.10/site-packages/ipykernel/kernelbase.py:1217\u001b[0m, in \u001b[0;36mKernel._input_request\u001b[0;34m(self, prompt, ident, parent, password)\u001b[0m\n\u001b[1;32m   1214\u001b[0m             \u001b[39mbreak\u001b[39;00m\n\u001b[1;32m   1215\u001b[0m \u001b[39mexcept\u001b[39;00m \u001b[39mKeyboardInterrupt\u001b[39;00m:\n\u001b[1;32m   1216\u001b[0m     \u001b[39m# re-raise KeyboardInterrupt, to truncate traceback\u001b[39;00m\n\u001b[0;32m-> 1217\u001b[0m     \u001b[39mraise\u001b[39;00m \u001b[39mKeyboardInterrupt\u001b[39;00m(\u001b[39m\"\u001b[39m\u001b[39mInterrupted by user\u001b[39m\u001b[39m\"\u001b[39m) \u001b[39mfrom\u001b[39;00m \u001b[39mNone\u001b[39m\n\u001b[1;32m   1218\u001b[0m \u001b[39mexcept\u001b[39;00m \u001b[39mException\u001b[39;00m:\n\u001b[1;32m   1219\u001b[0m     \u001b[39mself\u001b[39m\u001b[39m.\u001b[39mlog\u001b[39m.\u001b[39mwarning(\u001b[39m\"\u001b[39m\u001b[39mInvalid Message:\u001b[39m\u001b[39m\"\u001b[39m, exc_info\u001b[39m=\u001b[39m\u001b[39mTrue\u001b[39;00m)\n",
      "\u001b[0;31mKeyboardInterrupt\u001b[0m: Interrupted by user"
     ]
    }
   ],
   "source": [
    "# accuracySum = 0\n",
    "# runCount = 0\n",
    "\n",
    "telementary = 0\n",
    "lastWeights = nt.output_layer.weights\n",
    "\n",
    "dataLen = len(X_train[0])\n",
    "batchSize = 1000\n",
    "maxIt = 450\n",
    "for it in range(maxIt):\n",
    "    spliceRange = [(batchSize*it)%dataLen, batchSize*(it+1)%dataLen]    ## [start, end]\n",
    "\n",
    "    if(spliceRange[0] >= spliceRange[1]):\n",
    "        # spliceRange[0] = dataLen - spliceRange[0]\n",
    "        # if(spliceRange[0] >= spliceRange[1]):\n",
    "        spliceRange[0] = 0\n",
    "        spliceRange[1] = batchSize\n",
    "\n",
    "    ## Verifying batch size\n",
    "    X_Train_Batch = X_train.T[spliceRange[0]:spliceRange[1]].T\n",
    "    Y_Train_Batch = Y_train[spliceRange[0]:spliceRange[1]]\n",
    "    if(telementary==2): print(\"SPLICE:\", spliceRange)\n",
    "    if(telementary==2): print(\"X size:\", X_Train_Batch.shape)\n",
    "    if(telementary==2): print(\"Y size:\", Y_Train_Batch.shape)\n",
    "    if(X_Train_Batch.shape[1] == 0):\n",
    "        print(\"error no X: spliceRange\", spliceRange)\n",
    "\n",
    "    Y_train_oneHot = one_hot(Y_Train_Batch, maxExpected=9)\n",
    "    predictedRAW = n1.backward_prop(input_values=(X_Train_Batch), trueOutput=Y_train_oneHot)\n",
    "\n",
    "    if(it % 50 == 0):\n",
    "        print(\"Please press enter\")\n",
    "        pauser = input(\"Press enter for next iteration.\")\n",
    "        clearScreen()\n",
    "        print(\"iterations =\", it)\n",
    "        predictions = get_predictions(predictedRAW[0][0])\n",
    "        print(\"Accuracy =\", get_accuracy(predictions, Y_Train_Batch))\n",
    "        # print(\"Weights of output:\")\n",
    "        # print(n1.output_layer.weights)\n",
    "        newWeights = n1.output_layer.weights\n",
    "\n",
    "        # print weight changes made\n",
    "        if(newWeights.shape == lastWeights.shape):\n",
    "            printMap((newWeights - lastWeights)*50)\n",
    "\n",
    "        finalMAE = np.sum(np.absolute(predictedRAW[1]), axis=1) ## MAE of output activation errors over last ran single batch\n",
    "        finalMAE_MAX = np.max(finalMAE)\n",
    "\n",
    "        print(\"Activation Errors = \", finalMAE)\n",
    "        printMap((finalMAE[:, np.newaxis]/finalMAE_MAX) - 0.5, sizes=[1,10])\n",
    "\n",
    "        lastWeights = newWeights #n1.output_layer.weights\n"
   ]
  },
  {
   "attachments": {},
   "cell_type": "markdown",
   "metadata": {},
   "source": [
    "# Overfit"
   ]
  },
  {
   "cell_type": "code",
   "execution_count": 50,
   "metadata": {},
   "outputs": [],
   "source": [
    "overNN = nnetwork(784, 10, insertDefault=0)\n",
    "overNN.output_layer.activationFn = \"softmax\"\n"
   ]
  },
  {
   "cell_type": "code",
   "execution_count": 51,
   "metadata": {},
   "outputs": [
    {
     "name": "stdout",
     "output_type": "stream",
     "text": [
      "Last Layer\n",
      "10\n",
      "(10, 784) wts.shape = (output.shape, input.shape)\n",
      "(10, 1)\n",
      "2nd Last\n",
      "784\n"
     ]
    },
    {
     "ename": "AttributeError",
     "evalue": "'NoneType' object has no attribute 'shape'",
     "output_type": "error",
     "traceback": [
      "\u001b[0;31m---------------------------------------------------------------------------\u001b[0m",
      "\u001b[0;31mAttributeError\u001b[0m                            Traceback (most recent call last)",
      "Cell \u001b[0;32mIn[51], line 8\u001b[0m\n\u001b[1;32m      6\u001b[0m \u001b[39mprint\u001b[39m(\u001b[39m\"\u001b[39m\u001b[39m2nd Last\u001b[39m\u001b[39m\"\u001b[39m)\n\u001b[1;32m      7\u001b[0m \u001b[39mprint\u001b[39m(overNN\u001b[39m.\u001b[39moutput_layer\u001b[39m.\u001b[39minput_layers[\u001b[39m0\u001b[39m]\u001b[39m.\u001b[39mshape)\n\u001b[0;32m----> 8\u001b[0m \u001b[39mprint\u001b[39m(overNN\u001b[39m.\u001b[39;49moutput_layer\u001b[39m.\u001b[39;49minput_layers[\u001b[39m0\u001b[39;49m]\u001b[39m.\u001b[39;49mweights\u001b[39m.\u001b[39;49mshape, \u001b[39m\"\u001b[39m\u001b[39mwts.shape = (output.shape, input.shape)\u001b[39m\u001b[39m\"\u001b[39m)\n\u001b[1;32m      9\u001b[0m \u001b[39mprint\u001b[39m(overNN\u001b[39m.\u001b[39moutput_layer\u001b[39m.\u001b[39minput_layers[\u001b[39m0\u001b[39m]\u001b[39m.\u001b[39mbias\u001b[39m.\u001b[39mshape)\n",
      "\u001b[0;31mAttributeError\u001b[0m: 'NoneType' object has no attribute 'shape'"
     ]
    }
   ],
   "source": [
    "print(\"Last Layer\")\n",
    "print(overNN.output_layer.shape)\n",
    "print(overNN.output_layer.weights.shape, \"wts.shape = (output.shape, input.shape)\")\n",
    "print(overNN.output_layer.bias.shape)\n",
    "\n",
    "print(\"2nd Last\")\n",
    "print(overNN.output_layer.input_layers[0].shape)\n",
    "print(overNN.output_layer.input_layers[0].weights.shape, \"wts.shape = (output.shape, input.shape)\")\n",
    "print(overNN.output_layer.input_layers[0].bias.shape)"
   ]
  },
  {
   "cell_type": "code",
   "execution_count": 60,
   "metadata": {},
   "outputs": [],
   "source": [
    "overNN.addLayerAtLast(40,isDynamic=1, activationFn=\"relu\", transferWeights=0)\n",
    "# overNN.addLayerAtLast(10,isDynamic=1, activationFn=\"relu\")\n",
    "\n",
    "# TODO:"
   ]
  },
  {
   "cell_type": "code",
   "execution_count": 61,
   "metadata": {},
   "outputs": [
    {
     "name": "stdout",
     "output_type": "stream",
     "text": [
      "Last Layer\n",
      "10\n",
      "(10, 864) wts.shape = (output.shape, input.shape)\n",
      "(10, 1)\n",
      "2nd Last\n",
      "40\n",
      "(40, 40) wts.shape = (output.shape, input.shape)\n",
      "(40, 1)\n"
     ]
    }
   ],
   "source": [
    "print(\"Last Layer\")\n",
    "print(overNN.output_layer.shape)\n",
    "print(overNN.output_layer.weights.shape, \"wts.shape = (output.shape, input.shape)\")\n",
    "print(overNN.output_layer.bias.shape)\n",
    "\n",
    "print(\"2nd Last\")\n",
    "print(overNN.output_layer.input_layers[0].shape)\n",
    "print(overNN.output_layer.input_layers[0].weights.shape, \"wts.shape = (output.shape, input.shape)\")\n",
    "print(overNN.output_layer.input_layers[0].bias.shape)"
   ]
  },
  {
   "cell_type": "code",
   "execution_count": 15,
   "metadata": {},
   "outputs": [],
   "source": [
    "# overNN.output_layer.input_layers[0].weights = np.random.rand(40,784)"
   ]
  },
  {
   "cell_type": "code",
   "execution_count": 29,
   "metadata": {},
   "outputs": [
    {
     "name": "stdout",
     "output_type": "stream",
     "text": [
      "Provided input from cache\n",
      "Input values should be a 2D array.\n",
      "Adding to weight.shape[0]\n"
     ]
    },
    {
     "ename": "ValueError",
     "evalue": "all the input arrays must have same number of dimensions, but the array at index 0 has 2 dimension(s) and the array at index 1 has 1 dimension(s)",
     "output_type": "error",
     "traceback": [
      "\u001b[0;31m---------------------------------------------------------------------------\u001b[0m",
      "\u001b[0;31mValueError\u001b[0m                                Traceback (most recent call last)",
      "Cell \u001b[0;32mIn[29], line 2\u001b[0m\n\u001b[1;32m      1\u001b[0m telementary \u001b[39m=\u001b[39m \u001b[39m1\u001b[39m\n\u001b[0;32m----> 2\u001b[0m out \u001b[39m=\u001b[39m (overNN\u001b[39m.\u001b[39;49mforward_prop(X_train\u001b[39m.\u001b[39;49mT[\u001b[39m0\u001b[39;49m]\u001b[39m.\u001b[39;49mT))\n\u001b[1;32m      3\u001b[0m \u001b[39m# telementary = 1\u001b[39;00m\n\u001b[1;32m      4\u001b[0m \u001b[39mprint\u001b[39m(out)\n",
      "Cell \u001b[0;32mIn[18], line 68\u001b[0m, in \u001b[0;36mnetwork.forward_prop\u001b[0;34m(self, input_values)\u001b[0m\n\u001b[1;32m     65\u001b[0m     \u001b[39mself\u001b[39m\u001b[39m.\u001b[39minput_layer\u001b[39m.\u001b[39mcacheValue \u001b[39m=\u001b[39m input_values\n\u001b[1;32m     67\u001b[0m \u001b[39mif\u001b[39;00m(\u001b[39mself\u001b[39m\u001b[39m.\u001b[39minput_layer\u001b[39m.\u001b[39mcachedRun \u001b[39m==\u001b[39m \u001b[39m-\u001b[39m\u001b[39m1\u001b[39m \u001b[39mand\u001b[39;00m \u001b[39mtype\u001b[39m(\u001b[39mself\u001b[39m\u001b[39m.\u001b[39minput_layer\u001b[39m.\u001b[39mcacheValue) \u001b[39m!=\u001b[39m \u001b[39mtype\u001b[39m(\u001b[39mNone\u001b[39;00m)):\n\u001b[0;32m---> 68\u001b[0m     output_activations \u001b[39m=\u001b[39m \u001b[39mself\u001b[39;49m\u001b[39m.\u001b[39;49moutput_layer\u001b[39m.\u001b[39;49mgetActivation()\n\u001b[1;32m     69\u001b[0m     runNum \u001b[39m+\u001b[39m\u001b[39m=\u001b[39m \u001b[39m1\u001b[39m\n\u001b[1;32m     70\u001b[0m     \u001b[39mreturn\u001b[39;00m output_activations\n",
      "Cell \u001b[0;32mIn[17], line 128\u001b[0m, in \u001b[0;36mnlayer.getActivation\u001b[0;34m(self)\u001b[0m\n\u001b[1;32m    126\u001b[0m         inputArr \u001b[39m=\u001b[39m np\u001b[39m.\u001b[39mconcatenate((inputArr, \u001b[39mself\u001b[39m\u001b[39m.\u001b[39minput_layers[layrIndx]\u001b[39m.\u001b[39mgetActivation()))\n\u001b[1;32m    127\u001b[0m     \u001b[39melse\u001b[39;00m:\n\u001b[0;32m--> 128\u001b[0m         inputArr \u001b[39m=\u001b[39m \u001b[39mself\u001b[39;49m\u001b[39m.\u001b[39;49minput_layers[layrIndx]\u001b[39m.\u001b[39;49mgetActivation()\n\u001b[1;32m    131\u001b[0m \u001b[39mself\u001b[39m\u001b[39m.\u001b[39mbeingEvaluated \u001b[39m=\u001b[39m \u001b[39m0\u001b[39m\n\u001b[1;32m    133\u001b[0m \u001b[39m##  Checking dimensions of input matrix\u001b[39;00m\n",
      "Cell \u001b[0;32mIn[17], line 146\u001b[0m, in \u001b[0;36mnlayer.getActivation\u001b[0;34m(self)\u001b[0m\n\u001b[1;32m    143\u001b[0m         \u001b[39mif\u001b[39;00m(telementary): \u001b[39mprint\u001b[39m(\u001b[39m\"\u001b[39m\u001b[39mAdding to weight.shape[0]\u001b[39m\u001b[39m\"\u001b[39m)\n\u001b[1;32m    145\u001b[0m         \u001b[39m# Generating new weights for weights matrix but shape value is already present so updateShapeValue = 0\u001b[39;00m\n\u001b[0;32m--> 146\u001b[0m         \u001b[39mself\u001b[39;49m\u001b[39m.\u001b[39;49maddWidth_to_Layer(\u001b[39mself\u001b[39;49m\u001b[39m.\u001b[39;49mshape \u001b[39m-\u001b[39;49m \u001b[39mself\u001b[39;49m\u001b[39m.\u001b[39;49mweights\u001b[39m.\u001b[39;49mshape[\u001b[39m0\u001b[39;49m], updateShapeValue\u001b[39m=\u001b[39;49m\u001b[39m0\u001b[39;49m)\n\u001b[1;32m    152\u001b[0m \u001b[39m# Checking if shape matches\u001b[39;00m\n\u001b[1;32m    153\u001b[0m \u001b[39mif\u001b[39;00m(inputArr\u001b[39m.\u001b[39mshape[\u001b[39m0\u001b[39m] \u001b[39m>\u001b[39m \u001b[39mself\u001b[39m\u001b[39m.\u001b[39mweights\u001b[39m.\u001b[39mshape[\u001b[39m1\u001b[39m]):\n",
      "Cell \u001b[0;32mIn[17], line 75\u001b[0m, in \u001b[0;36mnlayer.addWidth_to_Layer\u001b[0;34m(self, addWidth, updateShapeValue)\u001b[0m\n\u001b[1;32m     73\u001b[0m \u001b[39mif\u001b[39;00m(addWidth \u001b[39m>\u001b[39m \u001b[39m0\u001b[39m):\n\u001b[1;32m     74\u001b[0m     \u001b[39mif\u001b[39;00m(updateShapeValue): \u001b[39mself\u001b[39m\u001b[39m.\u001b[39mshape \u001b[39m+\u001b[39m\u001b[39m=\u001b[39m addWidth\n\u001b[0;32m---> 75\u001b[0m     \u001b[39mself\u001b[39m\u001b[39m.\u001b[39mbias \u001b[39m=\u001b[39m np\u001b[39m.\u001b[39;49mconcatenate((\u001b[39mself\u001b[39;49m\u001b[39m.\u001b[39;49mbias, (np\u001b[39m.\u001b[39;49mrandom\u001b[39m.\u001b[39;49mrand(addWidth) \u001b[39m-\u001b[39;49m \u001b[39m0.5\u001b[39;49m)))\n\u001b[1;32m     77\u001b[0m     \u001b[39m## generating new row of random weights\u001b[39;00m\n\u001b[1;32m     78\u001b[0m     generatedRow \u001b[39m=\u001b[39m np\u001b[39m.\u001b[39mrandom\u001b[39m.\u001b[39mrand(addWidth, \u001b[39mself\u001b[39m\u001b[39m.\u001b[39mweights\u001b[39m.\u001b[39mshape[\u001b[39m1\u001b[39m]) \u001b[39m-\u001b[39m \u001b[39m0.5\u001b[39m\n",
      "File \u001b[0;32m<__array_function__ internals>:180\u001b[0m, in \u001b[0;36mconcatenate\u001b[0;34m(*args, **kwargs)\u001b[0m\n",
      "\u001b[0;31mValueError\u001b[0m: all the input arrays must have same number of dimensions, but the array at index 0 has 2 dimension(s) and the array at index 1 has 1 dimension(s)"
     ]
    }
   ],
   "source": [
    "telementary = 1\n",
    "out = (overNN.forward_prop(X_train.T[0].T))\n",
    "# telementary = 1\n",
    "print(out)"
   ]
  },
  {
   "attachments": {},
   "cell_type": "markdown",
   "metadata": {},
   "source": [
    "### Gradient Descent on MNIST"
   ]
  },
  {
   "cell_type": "code",
   "execution_count": 230,
   "metadata": {},
   "outputs": [
    {
     "name": "stdout",
     "output_type": "stream",
     "text": [
      "iterations = 0\n",
      "Accuracy = 0.08102439024390244\n",
      "iterations = 50\n",
      "Accuracy = 0.09629268292682927\n",
      "iterations = 100\n",
      "Accuracy = 0.16651219512195123\n",
      "iterations = 150\n",
      "Accuracy = 0.19514634146341464\n",
      "iterations = 200\n",
      "Accuracy = 0.2105121951219512\n",
      "iterations = 250\n",
      "Accuracy = 0.22439024390243903\n",
      "iterations = 300\n",
      "Accuracy = 0.2355121951219512\n",
      "iterations = 350\n",
      "Accuracy = 0.2474390243902439\n",
      "iterations = 400\n",
      "Accuracy = 0.2581951219512195\n",
      "iterations = 450\n",
      "Accuracy = 0.2674146341463415\n",
      "iterations = 500\n",
      "Accuracy = 0.2760975609756098\n",
      "iterations = 550\n",
      "Accuracy = 0.28580487804878046\n",
      "iterations = 600\n",
      "Accuracy = 0.29517073170731706\n",
      "iterations = 650\n",
      "Accuracy = 0.30585365853658536\n",
      "iterations = 700\n",
      "Accuracy = 0.31726829268292683\n",
      "iterations = 750\n",
      "Accuracy = 0.3289268292682927\n",
      "iterations = 800\n",
      "Accuracy = 0.33963414634146344\n",
      "iterations = 850\n",
      "Accuracy = 0.34685365853658534\n",
      "iterations = 900\n",
      "Accuracy = 0.35460975609756096\n",
      "iterations = 950\n",
      "Accuracy = 0.36085365853658535\n",
      "iterations = 1000\n",
      "Accuracy = 0.36860975609756097\n",
      "iterations = 1050\n",
      "Accuracy = 0.3744390243902439\n",
      "iterations = 1100\n",
      "Accuracy = 0.3808048780487805\n",
      "iterations = 1150\n",
      "Accuracy = 0.38721951219512196\n",
      "iterations = 1200\n",
      "Accuracy = 0.3931219512195122\n",
      "iterations = 1250\n",
      "Accuracy = 0.39946341463414636\n",
      "iterations = 1300\n",
      "Accuracy = 0.40673170731707314\n",
      "iterations = 1350\n",
      "Accuracy = 0.4141951219512195\n",
      "iterations = 1400\n",
      "Accuracy = 0.42048780487804877\n",
      "iterations = 1450\n",
      "Accuracy = 0.42521951219512194\n",
      "iterations = 1500\n",
      "Accuracy = 0.4332439024390244\n",
      "iterations = 1550\n",
      "Accuracy = 0.4404390243902439\n",
      "iterations = 1600\n",
      "Accuracy = 0.45121951219512196\n",
      "iterations = 1650\n",
      "Accuracy = 0.45446341463414636\n",
      "iterations = 1700\n",
      "Accuracy = 0.45639024390243904\n",
      "iterations = 1750\n",
      "Accuracy = 0.453\n",
      "iterations = 1800\n",
      "Accuracy = 0.4580975609756098\n",
      "iterations = 1850\n",
      "Accuracy = 0.4528536585365854\n",
      "iterations = 1900\n",
      "Accuracy = 0.45082926829268294\n",
      "iterations = 1950\n",
      "Accuracy = 0.45165853658536587\n",
      "iterations = 2000\n",
      "Accuracy = 0.4635365853658537\n",
      "iterations = 2050\n",
      "Accuracy = 0.4612926829268293\n",
      "iterations = 2100\n",
      "Accuracy = 0.4601707317073171\n",
      "iterations = 2150\n",
      "Accuracy = 0.458609756097561\n",
      "iterations = 2200\n",
      "Accuracy = 0.45921951219512197\n",
      "iterations = 2250\n",
      "Accuracy = 0.46026829268292685\n",
      "iterations = 2300\n",
      "Accuracy = 0.464\n",
      "iterations = 2350\n",
      "Accuracy = 0.45834146341463416\n",
      "iterations = 2400\n",
      "Accuracy = 0.46331707317073173\n",
      "iterations = 2450\n",
      "Accuracy = 0.46897560975609753\n",
      "iterations = 2500\n",
      "Accuracy = 0.47368292682926827\n",
      "iterations = 2550\n",
      "Accuracy = 0.47721951219512193\n",
      "iterations = 2600\n",
      "Accuracy = 0.4801219512195122\n",
      "iterations = 2650\n",
      "Accuracy = 0.48234146341463413\n",
      "iterations = 2700\n",
      "Accuracy = 0.48453658536585364\n",
      "iterations = 2750\n",
      "Accuracy = 0.48617073170731706\n",
      "iterations = 2800\n",
      "Accuracy = 0.48904878048780487\n",
      "iterations = 2850\n",
      "Accuracy = 0.4911463414634146\n",
      "iterations = 2900\n",
      "Accuracy = 0.4924390243902439\n",
      "iterations = 2950\n",
      "Accuracy = 0.49373170731707317\n",
      "iterations = 3000\n",
      "Accuracy = 0.49521951219512195\n",
      "iterations = 3050\n",
      "Accuracy = 0.49621951219512195\n",
      "iterations = 3100\n",
      "Accuracy = 0.4976829268292683\n",
      "iterations = 3150\n",
      "Accuracy = 0.49853658536585366\n",
      "iterations = 3200\n",
      "Accuracy = 0.5003658536585366\n",
      "iterations = 3250\n",
      "Accuracy = 0.5014634146341463\n",
      "iterations = 3300\n",
      "Accuracy = 0.5017560975609756\n",
      "iterations = 3350\n",
      "Accuracy = 0.5031707317073171\n",
      "iterations = 3400\n",
      "Accuracy = 0.5037560975609756\n",
      "iterations = 3450\n",
      "Accuracy = 0.5141463414634146\n",
      "iterations = 3500\n",
      "Accuracy = 0.5179512195121951\n",
      "iterations = 3550\n",
      "Accuracy = 0.5209268292682927\n",
      "iterations = 3600\n",
      "Accuracy = 0.5234146341463415\n",
      "iterations = 3650\n",
      "Accuracy = 0.5254878048780488\n",
      "iterations = 3700\n",
      "Accuracy = 0.527219512195122\n",
      "iterations = 3750\n",
      "Accuracy = 0.5284878048780488\n",
      "iterations = 3800\n",
      "Accuracy = 0.5299512195121951\n",
      "iterations = 3850\n",
      "Accuracy = 0.5315365853658537\n",
      "iterations = 3900\n",
      "Accuracy = 0.531609756097561\n",
      "iterations = 3950\n",
      "Accuracy = 0.5312926829268293\n",
      "iterations = 4000\n",
      "Accuracy = 0.5320487804878049\n",
      "iterations = 4050\n",
      "Accuracy = 0.5330487804878049\n",
      "iterations = 4100\n",
      "Accuracy = 0.5339024390243903\n",
      "iterations = 4150\n",
      "Accuracy = 0.5331219512195122\n",
      "iterations = 4200\n",
      "Accuracy = 0.5325365853658537\n",
      "iterations = 4250\n",
      "Accuracy = 0.5320975609756098\n",
      "iterations = 4300\n",
      "Accuracy = 0.5320243902439025\n",
      "iterations = 4350\n",
      "Accuracy = 0.5326829268292683\n",
      "iterations = 4400\n",
      "Accuracy = 0.5334878048780488\n",
      "iterations = 4450\n",
      "Accuracy = 0.534\n",
      "iterations = 4500\n",
      "Accuracy = 0.5347804878048781\n",
      "iterations = 4550\n",
      "Accuracy = 0.5360731707317073\n",
      "iterations = 4600\n",
      "Accuracy = 0.5372439024390244\n",
      "iterations = 4650\n",
      "Accuracy = 0.5380975609756098\n",
      "iterations = 4700\n",
      "Accuracy = 0.5393414634146342\n",
      "iterations = 4750\n",
      "Accuracy = 0.5406829268292683\n",
      "iterations = 4800\n",
      "Accuracy = 0.5420243902439025\n",
      "iterations = 4850\n",
      "Accuracy = 0.5426341463414635\n",
      "iterations = 4900\n",
      "Accuracy = 0.544\n",
      "iterations = 4950\n",
      "Accuracy = 0.5447804878048781\n"
     ]
    }
   ],
   "source": [
    "# accuracySum = 0\n",
    "# runCount = 0\n",
    "\n",
    "telementary = 0\n",
    "\n",
    "# lastWeights = overNN.output_layer.weights\n",
    "\n",
    "dataLen = len(X_train)\n",
    "\n",
    "maxIt = 5000\n",
    "for it in range(maxIt):\n",
    "    Y_train_oneHot = one_hot(Y_train, maxExpected=9)\n",
    "    predictedRAW = overNN.backward_prop(input_values=(X_train), trueOutput=Y_train_oneHot)\n",
    "\n",
    "    if(it % 50 == 0):\n",
    "        print(\"iterations =\", it)\n",
    "        predictions = get_predictions(predictedRAW[0][0])\n",
    "        print(\"Accuracy =\", get_accuracy(predictions, Y_train))\n",
    "        # newWeights = nt.output_layer.weights\n",
    "\n",
    "        # printMap((newWeights - lastWeights)*50)\n",
    "\n",
    "        # lastWeights = newWeights #nt.output_layer.weights\n"
   ]
  },
  {
   "attachments": {},
   "cell_type": "markdown",
   "metadata": {},
   "source": [
    "\n",
    "\n",
    "\n",
    "\n",
    "## Simulator"
   ]
  },
  {
   "cell_type": "code",
   "execution_count": 46,
   "metadata": {},
   "outputs": [],
   "source": [
    "wt = nt.output_layer.input_layers[0].input_layers[0].weights\n",
    "# print(wt.shape)\n",
    "\n",
    "# x1 = X_trainT[0:2]\n",
    "x1 = X_trainT[0]\n",
    "\n",
    "print(\"wt\", wt.shape)\n",
    "print(\"x1\", x1.shape)\n",
    "print(\"x1T\", x1.T.shape)\n",
    "\n",
    "act1 = np.matmul(wt, x1.T)\n",
    "act1"
   ]
  },
  {
   "attachments": {},
   "cell_type": "markdown",
   "metadata": {},
   "source": [
    "# Playground"
   ]
  },
  {
   "cell_type": "code",
   "execution_count": 88,
   "metadata": {},
   "outputs": [
    {
     "data": {
      "text/plain": [
       "(2, 3)"
      ]
     },
     "execution_count": 88,
     "metadata": {},
     "output_type": "execute_result"
    }
   ],
   "source": [
    "x = np.array([[1,2,3], [5,6,7]])\n",
    "x.shape"
   ]
  },
  {
   "cell_type": "code",
   "execution_count": 89,
   "metadata": {},
   "outputs": [
    {
     "data": {
      "text/plain": [
       "array([], shape=(1, 0), dtype=float64)"
      ]
     },
     "execution_count": 89,
     "metadata": {},
     "output_type": "execute_result"
    }
   ],
   "source": [
    "empt = np.array([[]])\n",
    "empt"
   ]
  },
  {
   "cell_type": "code",
   "execution_count": 103,
   "metadata": {},
   "outputs": [
    {
     "name": "stdout",
     "output_type": "stream",
     "text": [
      "[[1 2 3]\n",
      " [5 6 7]\n",
      " [1 2 3]\n",
      " [5 6 7]\n",
      " [1 2 3]\n",
      " [5 6 7]\n",
      " [1 2 3]\n",
      " [5 6 7]\n",
      " [1 2 3]\n",
      " [5 6 7]]\n"
     ]
    }
   ],
   "source": [
    "\n",
    "if(empt.shape[1] > 0):\n",
    "    empt = np.concatenate((empt, x))\n",
    "else:\n",
    "    empt = x\n",
    "\n",
    "print(empt)\n"
   ]
  },
  {
   "cell_type": "code",
   "execution_count": 27,
   "metadata": {},
   "outputs": [
    {
     "data": {
      "text/plain": [
       "array([[0, 2, 4],\n",
       "       [4, 6, 8]])"
      ]
     },
     "execution_count": 27,
     "metadata": {},
     "output_type": "execute_result"
    }
   ],
   "source": [
    "y = np.array([[-1,0,1]])\n",
    "\n",
    "x + y"
   ]
  },
  {
   "cell_type": "code",
   "execution_count": 35,
   "metadata": {},
   "outputs": [
    {
     "name": "stdout",
     "output_type": "stream",
     "text": [
      "[[-0.21379049  0.318942  ]\n",
      " [ 0.33342107 -0.20130355]\n",
      " [-0.22479054  0.23240682]\n",
      " [-0.10478904 -0.04715419]]\n"
     ]
    }
   ],
   "source": [
    "x = np.random.rand(4,2) - 0.5\n",
    "print(x)"
   ]
  },
  {
   "cell_type": "code",
   "execution_count": 40,
   "metadata": {},
   "outputs": [],
   "source": [
    "def applyDerivActivationFn(input):\n",
    "    return (input > 0)"
   ]
  },
  {
   "cell_type": "code",
   "execution_count": 41,
   "metadata": {},
   "outputs": [
    {
     "data": {
      "text/plain": [
       "array([[False,  True],\n",
       "       [ True, False],\n",
       "       [False,  True],\n",
       "       [False, False]])"
      ]
     },
     "execution_count": 41,
     "metadata": {},
     "output_type": "execute_result"
    }
   ],
   "source": [
    "applyDerivActivationFn(x)"
   ]
  },
  {
   "attachments": {},
   "cell_type": "markdown",
   "metadata": {},
   "source": [
    "# Main"
   ]
  },
  {
   "cell_type": "code",
   "execution_count": 5,
   "metadata": {},
   "outputs": [],
   "source": [
    "n1 = nnetwork(2,1)\n",
    "\n",
    "in1 = np.array([0,1,2])\n",
    "wtMat = np.array([[5,6,7],[8,9,10]])\n",
    "# biases = np.array([5,25])\n",
    "biases = np.array([0.5,0.25])"
   ]
  },
  {
   "cell_type": "code",
   "execution_count": 37,
   "metadata": {},
   "outputs": [
    {
     "name": "stdout",
     "output_type": "stream",
     "text": [
      "[20.5  29.25]\n"
     ]
    }
   ],
   "source": [
    "output_activations = np.matmul(wtMat, in1) + biases\n",
    "print(output_activations)"
   ]
  }
 ],
 "metadata": {
  "kernelspec": {
   "display_name": "Python 3",
   "language": "python",
   "name": "python3"
  },
  "language_info": {
   "codemirror_mode": {
    "name": "ipython",
    "version": 3
   },
   "file_extension": ".py",
   "mimetype": "text/x-python",
   "name": "python",
   "nbconvert_exporter": "python",
   "pygments_lexer": "ipython3",
   "version": "3.10.6"
  },
  "orig_nbformat": 4,
  "vscode": {
   "interpreter": {
    "hash": "916dbcbb3f70747c44a77c7bcd40155683ae19c65e1c03b4aa3499c5328201f1"
   }
  }
 },
 "nbformat": 4,
 "nbformat_minor": 2
}
